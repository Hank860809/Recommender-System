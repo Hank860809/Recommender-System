{
 "cells": [
  {
   "cell_type": "code",
   "execution_count": 1,
   "id": "f5460e3f",
   "metadata": {},
   "outputs": [],
   "source": [
    "import numpy as np \n",
    "import pandas as pd \n",
    "import seaborn as sns\n",
    "from scipy.sparse import csr_matrix\n",
    "from sklearn.neighbors import NearestNeighbors\n",
    "import warnings"
   ]
  },
  {
   "cell_type": "markdown",
   "id": "96a6d400",
   "metadata": {},
   "source": [
    "### 讀入user資料"
   ]
  },
  {
   "cell_type": "code",
   "execution_count": 2,
   "id": "49ca70be",
   "metadata": {},
   "outputs": [
    {
     "data": {
      "text/html": [
       "<div>\n",
       "<style scoped>\n",
       "    .dataframe tbody tr th:only-of-type {\n",
       "        vertical-align: middle;\n",
       "    }\n",
       "\n",
       "    .dataframe tbody tr th {\n",
       "        vertical-align: top;\n",
       "    }\n",
       "\n",
       "    .dataframe thead th {\n",
       "        text-align: right;\n",
       "    }\n",
       "</style>\n",
       "<table border=\"1\" class=\"dataframe\">\n",
       "  <thead>\n",
       "    <tr style=\"text-align: right;\">\n",
       "      <th></th>\n",
       "      <th>movie_id</th>\n",
       "      <th>title</th>\n",
       "      <th>user_id</th>\n",
       "      <th>rating</th>\n",
       "    </tr>\n",
       "  </thead>\n",
       "  <tbody>\n",
       "    <tr>\n",
       "      <th>0</th>\n",
       "      <td>1</td>\n",
       "      <td>Toy Story (1995)</td>\n",
       "      <td>308</td>\n",
       "      <td>4</td>\n",
       "    </tr>\n",
       "    <tr>\n",
       "      <th>1</th>\n",
       "      <td>1</td>\n",
       "      <td>Toy Story (1995)</td>\n",
       "      <td>287</td>\n",
       "      <td>5</td>\n",
       "    </tr>\n",
       "    <tr>\n",
       "      <th>2</th>\n",
       "      <td>1</td>\n",
       "      <td>Toy Story (1995)</td>\n",
       "      <td>148</td>\n",
       "      <td>4</td>\n",
       "    </tr>\n",
       "    <tr>\n",
       "      <th>3</th>\n",
       "      <td>1</td>\n",
       "      <td>Toy Story (1995)</td>\n",
       "      <td>280</td>\n",
       "      <td>4</td>\n",
       "    </tr>\n",
       "    <tr>\n",
       "      <th>4</th>\n",
       "      <td>1</td>\n",
       "      <td>Toy Story (1995)</td>\n",
       "      <td>66</td>\n",
       "      <td>3</td>\n",
       "    </tr>\n",
       "  </tbody>\n",
       "</table>\n",
       "</div>"
      ],
      "text/plain": [
       "   movie_id             title  user_id  rating\n",
       "0         1  Toy Story (1995)      308       4\n",
       "1         1  Toy Story (1995)      287       5\n",
       "2         1  Toy Story (1995)      148       4\n",
       "3         1  Toy Story (1995)      280       4\n",
       "4         1  Toy Story (1995)       66       3"
      ]
     },
     "execution_count": 2,
     "metadata": {},
     "output_type": "execute_result"
    }
   ],
   "source": [
    "user_ratings = pd.read_csv('u.data',sep='\\t',names=['user_id','movie_id','rating'], usecols=[0,1,2])\n",
    "movie_info =  pd.read_csv('u.item', sep='|', names=['movie_id','title'], usecols=[0,1],encoding=\"ISO-8859-1\")\n",
    "user_ratings = pd.merge(movie_info, user_ratings)\n",
    "user_ratings.head()"
   ]
  },
  {
   "cell_type": "markdown",
   "id": "23f64fa3",
   "metadata": {},
   "source": [
    "### user資料加入index"
   ]
  },
  {
   "cell_type": "code",
   "execution_count": 3,
   "id": "6c17d8cb",
   "metadata": {},
   "outputs": [
    {
     "data": {
      "text/html": [
       "<div>\n",
       "<style scoped>\n",
       "    .dataframe tbody tr th:only-of-type {\n",
       "        vertical-align: middle;\n",
       "    }\n",
       "\n",
       "    .dataframe tbody tr th {\n",
       "        vertical-align: top;\n",
       "    }\n",
       "\n",
       "    .dataframe thead th {\n",
       "        text-align: right;\n",
       "    }\n",
       "</style>\n",
       "<table border=\"1\" class=\"dataframe\">\n",
       "  <thead>\n",
       "    <tr style=\"text-align: right;\">\n",
       "      <th>title</th>\n",
       "      <th>'Til There Was You (1997)</th>\n",
       "      <th>1-900 (1994)</th>\n",
       "      <th>101 Dalmatians (1996)</th>\n",
       "      <th>12 Angry Men (1957)</th>\n",
       "      <th>187 (1997)</th>\n",
       "      <th>2 Days in the Valley (1996)</th>\n",
       "      <th>20,000 Leagues Under the Sea (1954)</th>\n",
       "      <th>2001: A Space Odyssey (1968)</th>\n",
       "      <th>3 Ninjas: High Noon At Mega Mountain (1998)</th>\n",
       "      <th>39 Steps, The (1935)</th>\n",
       "      <th>...</th>\n",
       "      <th>Yankee Zulu (1994)</th>\n",
       "      <th>Year of the Horse (1997)</th>\n",
       "      <th>You So Crazy (1994)</th>\n",
       "      <th>Young Frankenstein (1974)</th>\n",
       "      <th>Young Guns (1988)</th>\n",
       "      <th>Young Guns II (1990)</th>\n",
       "      <th>Young Poisoner's Handbook, The (1995)</th>\n",
       "      <th>Zeus and Roxanne (1997)</th>\n",
       "      <th>unknown</th>\n",
       "      <th>Á köldum klaka (Cold Fever) (1994)</th>\n",
       "    </tr>\n",
       "    <tr>\n",
       "      <th>user_id</th>\n",
       "      <th></th>\n",
       "      <th></th>\n",
       "      <th></th>\n",
       "      <th></th>\n",
       "      <th></th>\n",
       "      <th></th>\n",
       "      <th></th>\n",
       "      <th></th>\n",
       "      <th></th>\n",
       "      <th></th>\n",
       "      <th></th>\n",
       "      <th></th>\n",
       "      <th></th>\n",
       "      <th></th>\n",
       "      <th></th>\n",
       "      <th></th>\n",
       "      <th></th>\n",
       "      <th></th>\n",
       "      <th></th>\n",
       "      <th></th>\n",
       "      <th></th>\n",
       "    </tr>\n",
       "  </thead>\n",
       "  <tbody>\n",
       "    <tr>\n",
       "      <th>1</th>\n",
       "      <td>NaN</td>\n",
       "      <td>NaN</td>\n",
       "      <td>2.0</td>\n",
       "      <td>5.0</td>\n",
       "      <td>NaN</td>\n",
       "      <td>NaN</td>\n",
       "      <td>3.0</td>\n",
       "      <td>4.0</td>\n",
       "      <td>NaN</td>\n",
       "      <td>NaN</td>\n",
       "      <td>...</td>\n",
       "      <td>NaN</td>\n",
       "      <td>NaN</td>\n",
       "      <td>NaN</td>\n",
       "      <td>5.0</td>\n",
       "      <td>3.0</td>\n",
       "      <td>NaN</td>\n",
       "      <td>NaN</td>\n",
       "      <td>NaN</td>\n",
       "      <td>4.0</td>\n",
       "      <td>NaN</td>\n",
       "    </tr>\n",
       "    <tr>\n",
       "      <th>2</th>\n",
       "      <td>NaN</td>\n",
       "      <td>NaN</td>\n",
       "      <td>NaN</td>\n",
       "      <td>NaN</td>\n",
       "      <td>NaN</td>\n",
       "      <td>NaN</td>\n",
       "      <td>NaN</td>\n",
       "      <td>NaN</td>\n",
       "      <td>1.0</td>\n",
       "      <td>NaN</td>\n",
       "      <td>...</td>\n",
       "      <td>NaN</td>\n",
       "      <td>NaN</td>\n",
       "      <td>NaN</td>\n",
       "      <td>NaN</td>\n",
       "      <td>NaN</td>\n",
       "      <td>NaN</td>\n",
       "      <td>NaN</td>\n",
       "      <td>NaN</td>\n",
       "      <td>NaN</td>\n",
       "      <td>NaN</td>\n",
       "    </tr>\n",
       "    <tr>\n",
       "      <th>3</th>\n",
       "      <td>NaN</td>\n",
       "      <td>NaN</td>\n",
       "      <td>NaN</td>\n",
       "      <td>NaN</td>\n",
       "      <td>2.0</td>\n",
       "      <td>NaN</td>\n",
       "      <td>NaN</td>\n",
       "      <td>NaN</td>\n",
       "      <td>NaN</td>\n",
       "      <td>NaN</td>\n",
       "      <td>...</td>\n",
       "      <td>NaN</td>\n",
       "      <td>NaN</td>\n",
       "      <td>NaN</td>\n",
       "      <td>NaN</td>\n",
       "      <td>NaN</td>\n",
       "      <td>NaN</td>\n",
       "      <td>NaN</td>\n",
       "      <td>NaN</td>\n",
       "      <td>NaN</td>\n",
       "      <td>NaN</td>\n",
       "    </tr>\n",
       "    <tr>\n",
       "      <th>4</th>\n",
       "      <td>NaN</td>\n",
       "      <td>NaN</td>\n",
       "      <td>NaN</td>\n",
       "      <td>NaN</td>\n",
       "      <td>NaN</td>\n",
       "      <td>NaN</td>\n",
       "      <td>NaN</td>\n",
       "      <td>NaN</td>\n",
       "      <td>NaN</td>\n",
       "      <td>NaN</td>\n",
       "      <td>...</td>\n",
       "      <td>NaN</td>\n",
       "      <td>NaN</td>\n",
       "      <td>NaN</td>\n",
       "      <td>NaN</td>\n",
       "      <td>NaN</td>\n",
       "      <td>NaN</td>\n",
       "      <td>NaN</td>\n",
       "      <td>NaN</td>\n",
       "      <td>NaN</td>\n",
       "      <td>NaN</td>\n",
       "    </tr>\n",
       "    <tr>\n",
       "      <th>5</th>\n",
       "      <td>NaN</td>\n",
       "      <td>NaN</td>\n",
       "      <td>2.0</td>\n",
       "      <td>NaN</td>\n",
       "      <td>NaN</td>\n",
       "      <td>NaN</td>\n",
       "      <td>NaN</td>\n",
       "      <td>4.0</td>\n",
       "      <td>NaN</td>\n",
       "      <td>NaN</td>\n",
       "      <td>...</td>\n",
       "      <td>NaN</td>\n",
       "      <td>NaN</td>\n",
       "      <td>NaN</td>\n",
       "      <td>4.0</td>\n",
       "      <td>NaN</td>\n",
       "      <td>NaN</td>\n",
       "      <td>NaN</td>\n",
       "      <td>NaN</td>\n",
       "      <td>4.0</td>\n",
       "      <td>NaN</td>\n",
       "    </tr>\n",
       "  </tbody>\n",
       "</table>\n",
       "<p>5 rows × 1664 columns</p>\n",
       "</div>"
      ],
      "text/plain": [
       "title    'Til There Was You (1997)  1-900 (1994)  101 Dalmatians (1996)  \\\n",
       "user_id                                                                   \n",
       "1                              NaN           NaN                    2.0   \n",
       "2                              NaN           NaN                    NaN   \n",
       "3                              NaN           NaN                    NaN   \n",
       "4                              NaN           NaN                    NaN   \n",
       "5                              NaN           NaN                    2.0   \n",
       "\n",
       "title    12 Angry Men (1957)  187 (1997)  2 Days in the Valley (1996)  \\\n",
       "user_id                                                                 \n",
       "1                        5.0         NaN                          NaN   \n",
       "2                        NaN         NaN                          NaN   \n",
       "3                        NaN         2.0                          NaN   \n",
       "4                        NaN         NaN                          NaN   \n",
       "5                        NaN         NaN                          NaN   \n",
       "\n",
       "title    20,000 Leagues Under the Sea (1954)  2001: A Space Odyssey (1968)  \\\n",
       "user_id                                                                      \n",
       "1                                        3.0                           4.0   \n",
       "2                                        NaN                           NaN   \n",
       "3                                        NaN                           NaN   \n",
       "4                                        NaN                           NaN   \n",
       "5                                        NaN                           4.0   \n",
       "\n",
       "title    3 Ninjas: High Noon At Mega Mountain (1998)  39 Steps, The (1935)  \\\n",
       "user_id                                                                      \n",
       "1                                                NaN                   NaN   \n",
       "2                                                1.0                   NaN   \n",
       "3                                                NaN                   NaN   \n",
       "4                                                NaN                   NaN   \n",
       "5                                                NaN                   NaN   \n",
       "\n",
       "title    ...  Yankee Zulu (1994)  Year of the Horse (1997)  \\\n",
       "user_id  ...                                                 \n",
       "1        ...                 NaN                       NaN   \n",
       "2        ...                 NaN                       NaN   \n",
       "3        ...                 NaN                       NaN   \n",
       "4        ...                 NaN                       NaN   \n",
       "5        ...                 NaN                       NaN   \n",
       "\n",
       "title    You So Crazy (1994)  Young Frankenstein (1974)  Young Guns (1988)  \\\n",
       "user_id                                                                      \n",
       "1                        NaN                        5.0                3.0   \n",
       "2                        NaN                        NaN                NaN   \n",
       "3                        NaN                        NaN                NaN   \n",
       "4                        NaN                        NaN                NaN   \n",
       "5                        NaN                        4.0                NaN   \n",
       "\n",
       "title    Young Guns II (1990)  Young Poisoner's Handbook, The (1995)  \\\n",
       "user_id                                                                \n",
       "1                         NaN                                    NaN   \n",
       "2                         NaN                                    NaN   \n",
       "3                         NaN                                    NaN   \n",
       "4                         NaN                                    NaN   \n",
       "5                         NaN                                    NaN   \n",
       "\n",
       "title    Zeus and Roxanne (1997)  unknown  Á köldum klaka (Cold Fever) (1994)  \n",
       "user_id                                                                        \n",
       "1                            NaN      4.0                                 NaN  \n",
       "2                            NaN      NaN                                 NaN  \n",
       "3                            NaN      NaN                                 NaN  \n",
       "4                            NaN      NaN                                 NaN  \n",
       "5                            NaN      4.0                                 NaN  \n",
       "\n",
       "[5 rows x 1664 columns]"
      ]
     },
     "execution_count": 3,
     "metadata": {},
     "output_type": "execute_result"
    }
   ],
   "source": [
    "user_ratings =user_ratings.pivot_table(index=['user_id'],columns=['title'],values='rating')\n",
    "user_ratings.head()"
   ]
  },
  {
   "cell_type": "markdown",
   "id": "b3ec091d",
   "metadata": {},
   "source": [
    "### 印出有打分數的區塊占總表格的比例"
   ]
  },
  {
   "cell_type": "code",
   "execution_count": 4,
   "id": "830a1c51",
   "metadata": {},
   "outputs": [],
   "source": [
    "def df_fill_percentage(data):\n",
    "    return round( data.notna().sum().sum() / (data.shape[0] * data.shape[1]) * 100, 2)"
   ]
  },
  {
   "cell_type": "code",
   "execution_count": 5,
   "id": "535cf2e4",
   "metadata": {},
   "outputs": [
    {
     "data": {
      "text/plain": [
       "6.35"
      ]
     },
     "execution_count": 5,
     "metadata": {},
     "output_type": "execute_result"
    }
   ],
   "source": [
    "df_fill_percentage(user_ratings)\n"
   ]
  },
  {
   "cell_type": "markdown",
   "id": "aad5b7bc",
   "metadata": {},
   "source": [
    "### 顯示只有少部分的電影有被評分的現象"
   ]
  },
  {
   "cell_type": "code",
   "execution_count": 6,
   "id": "f76a9fba",
   "metadata": {},
   "outputs": [
    {
     "data": {
      "text/plain": [
       "<AxesSubplot:ylabel='Density'>"
      ]
     },
     "execution_count": 6,
     "metadata": {},
     "output_type": "execute_result"
    },
    {
     "data": {
      "image/png": "[encoded data removed]",
      "text/plain": [
       "<Figure size 640x480 with 1 Axes>"
      ]
     },
     "metadata": {},
     "output_type": "display_data"
    }
   ],
   "source": [
    "user_ratings.count(axis=1).plot(kind='kde')"
   ]
  },
  {
   "cell_type": "markdown",
   "id": "4fabe8f2",
   "metadata": {},
   "source": [
    "### 使用皮爾森係數去計算距離，當作相關性的值，並且整理，只留下篩選後的資料"
   ]
  },
  {
   "cell_type": "code",
   "execution_count": 7,
   "id": "19394606",
   "metadata": {},
   "outputs": [],
   "source": [
    "user_distances = user_ratings.transpose().corr(method='pearson')"
   ]
  },
  {
   "cell_type": "code",
   "execution_count": 8,
   "id": "4be69545",
   "metadata": {},
   "outputs": [],
   "source": [
    "#留下最相近的10筆資料\n",
    "nneighbors = 10\n",
    "user_distances = user_distances.dropna(axis=0, thresh=nneighbors+1).dropna(axis=1, thresh=nneighbors+1)\n",
    "\n",
    "# 移除多餘的行\n",
    "user_distances = user_distances.loc[user_distances.columns]"
   ]
  },
  {
   "cell_type": "markdown",
   "id": "ddf2d5c5",
   "metadata": {},
   "source": [
    "### 將距離係數範圍移到-1和1之間，並將負值都計為0"
   ]
  },
  {
   "cell_type": "code",
   "execution_count": 9,
   "id": "e6f9865a",
   "metadata": {},
   "outputs": [],
   "source": [
    "user_distances = 1.0 - user_distances\n",
    "user_distances[user_distances < 0] = 0"
   ]
  },
  {
   "cell_type": "markdown",
   "id": "bbc3437e",
   "metadata": {},
   "source": [
    "### 設定KNN模型，由於資料中會出現0項，KNN模型只對非零項作運算。\n"
   ]
  },
  {
   "cell_type": "code",
   "execution_count": 10,
   "id": "622ee3af",
   "metadata": {},
   "outputs": [
    {
     "name": "stderr",
     "output_type": "stream",
     "text": [
      "C:\\Users\\611121209\\anaconda3\\lib\\site-packages\\sklearn\\neighbors\\_base.py:199: EfficiencyWarning: Precomputed sparse input was not sorted by data.\n",
      "  warnings.warn(\n"
     ]
    }
   ],
   "source": [
    "#設定knn訓練模型，其中n_neighbors=10，利用鄰近10個項目作為參考。\n",
    "model_knn = NearestNeighbors(metric='precomputed', algorithm='brute', n_neighbors=10, n_jobs=-1)\n",
    "#只考慮非零項\n",
    "model_knn.fit(csr_matrix(user_distances.fillna(0).values))\n",
    "#預測\n",
    "similarity, indexes = model_knn.kneighbors(csr_matrix(user_distances.fillna(0).values), n_neighbors=nneighbors)"
   ]
  },
  {
   "cell_type": "markdown",
   "id": "4503d47c",
   "metadata": {},
   "source": [
    "### 求出最相關的10筆資料後，套回原本的電影名稱。"
   ]
  },
  {
   "cell_type": "code",
   "execution_count": 11,
   "id": "98a58787",
   "metadata": {},
   "outputs": [
    {
     "data": {
      "text/html": [
       "<div>\n",
       "<style scoped>\n",
       "    .dataframe tbody tr th:only-of-type {\n",
       "        vertical-align: middle;\n",
       "    }\n",
       "\n",
       "    .dataframe tbody tr th {\n",
       "        vertical-align: top;\n",
       "    }\n",
       "\n",
       "    .dataframe thead th {\n",
       "        text-align: right;\n",
       "    }\n",
       "</style>\n",
       "<table border=\"1\" class=\"dataframe\">\n",
       "  <thead>\n",
       "    <tr style=\"text-align: right;\">\n",
       "      <th></th>\n",
       "      <th>neighborhood_ids</th>\n",
       "      <th>distance</th>\n",
       "    </tr>\n",
       "    <tr>\n",
       "      <th>user_id</th>\n",
       "      <th></th>\n",
       "      <th></th>\n",
       "    </tr>\n",
       "  </thead>\n",
       "  <tbody>\n",
       "    <tr>\n",
       "      <th>1</th>\n",
       "      <td>[520, 107, 687, 34, 105, 740, 485, 400, 873, 510]</td>\n",
       "      <td>[0.08144134645630818, 0.08346578621692213, 0.0...</td>\n",
       "    </tr>\n",
       "    <tr>\n",
       "      <th>2</th>\n",
       "      <td>[426, 341, 476, 267, 310, 766, 352, 162, 338, ...</td>\n",
       "      <td>[1.1102230246251565e-16, 0.015268072165338209,...</td>\n",
       "    </tr>\n",
       "    <tr>\n",
       "      <th>3</th>\n",
       "      <td>[618, 879, 368, 563, 359, 906, 867, 512, 452, ...</td>\n",
       "      <td>[2.220446049250313e-16, 2.220446049250313e-16,...</td>\n",
       "    </tr>\n",
       "    <tr>\n",
       "      <th>4</th>\n",
       "      <td>[825, 899, 739, 169, 812, 168, 325, 80, 369, 711]</td>\n",
       "      <td>[2.220446049250313e-16, 0.015268072165338209, ...</td>\n",
       "    </tr>\n",
       "    <tr>\n",
       "      <th>5</th>\n",
       "      <td>[728, 791, 482, 565, 797, 415, 781, 931, 571, ...</td>\n",
       "      <td>[0.018019493938034148, 0.029274656605848937, 0...</td>\n",
       "    </tr>\n",
       "    <tr>\n",
       "      <th>...</th>\n",
       "      <td>...</td>\n",
       "      <td>...</td>\n",
       "    </tr>\n",
       "    <tr>\n",
       "      <th>939</th>\n",
       "      <td>[482, 578, 640, 728, 832, 609, 397, 451, 492, ...</td>\n",
       "      <td>[1.1102230246251565e-16, 1.1102230246251565e-1...</td>\n",
       "    </tr>\n",
       "    <tr>\n",
       "      <th>940</th>\n",
       "      <td>[726, 859, 300, 105, 289, 4, 510, 428, 353, 872]</td>\n",
       "      <td>[0.018019493938034148, 0.01801949393803437, 0....</td>\n",
       "    </tr>\n",
       "    <tr>\n",
       "      <th>941</th>\n",
       "      <td>[801, 243, 350, 781, 841, 451, 610, 93, 431, 574]</td>\n",
       "      <td>[1.1102230246251565e-16, 2.220446049250313e-16...</td>\n",
       "    </tr>\n",
       "    <tr>\n",
       "      <th>942</th>\n",
       "      <td>[736, 310, 893, 19, 623, 852, 723, 556, 501, 36]</td>\n",
       "      <td>[1.1102230246251565e-16, 2.220446049250313e-16...</td>\n",
       "    </tr>\n",
       "    <tr>\n",
       "      <th>943</th>\n",
       "      <td>[782, 832, 520, 9, 369, 464, 415, 139, 306, 736]</td>\n",
       "      <td>[2.220446049250313e-16, 2.220446049250313e-16,...</td>\n",
       "    </tr>\n",
       "  </tbody>\n",
       "</table>\n",
       "<p>943 rows × 2 columns</p>\n",
       "</div>"
      ],
      "text/plain": [
       "                                          neighborhood_ids  \\\n",
       "user_id                                                      \n",
       "1        [520, 107, 687, 34, 105, 740, 485, 400, 873, 510]   \n",
       "2        [426, 341, 476, 267, 310, 766, 352, 162, 338, ...   \n",
       "3        [618, 879, 368, 563, 359, 906, 867, 512, 452, ...   \n",
       "4        [825, 899, 739, 169, 812, 168, 325, 80, 369, 711]   \n",
       "5        [728, 791, 482, 565, 797, 415, 781, 931, 571, ...   \n",
       "...                                                    ...   \n",
       "939      [482, 578, 640, 728, 832, 609, 397, 451, 492, ...   \n",
       "940       [726, 859, 300, 105, 289, 4, 510, 428, 353, 872]   \n",
       "941      [801, 243, 350, 781, 841, 451, 610, 93, 431, 574]   \n",
       "942       [736, 310, 893, 19, 623, 852, 723, 556, 501, 36]   \n",
       "943       [782, 832, 520, 9, 369, 464, 415, 139, 306, 736]   \n",
       "\n",
       "                                                  distance  \n",
       "user_id                                                     \n",
       "1        [0.08144134645630818, 0.08346578621692213, 0.0...  \n",
       "2        [1.1102230246251565e-16, 0.015268072165338209,...  \n",
       "3        [2.220446049250313e-16, 2.220446049250313e-16,...  \n",
       "4        [2.220446049250313e-16, 0.015268072165338209, ...  \n",
       "5        [0.018019493938034148, 0.029274656605848937, 0...  \n",
       "...                                                    ...  \n",
       "939      [1.1102230246251565e-16, 1.1102230246251565e-1...  \n",
       "940      [0.018019493938034148, 0.01801949393803437, 0....  \n",
       "941      [1.1102230246251565e-16, 2.220446049250313e-16...  \n",
       "942      [1.1102230246251565e-16, 2.220446049250313e-16...  \n",
       "943      [2.220446049250313e-16, 2.220446049250313e-16,...  \n",
       "\n",
       "[943 rows x 2 columns]"
      ]
     },
     "execution_count": 11,
     "metadata": {},
     "output_type": "execute_result"
    }
   ],
   "source": [
    "neighborhoods = pd.DataFrame({'neighborhood_ids':[user_distances.iloc[neighbors].index.to_list() \n",
    "                                                for neighbors in indexes], \n",
    "                              'distance': similarity.tolist()}, \n",
    "                             index=user_distances.index)\n",
    "neighborhoods\n",
    "#算出每一個人推薦的十部電影及距離"
   ]
  },
  {
   "cell_type": "code",
   "execution_count": 12,
   "id": "202e457b",
   "metadata": {},
   "outputs": [
    {
     "data": {
      "text/plain": [
       "[520, 107, 687, 34, 105, 740, 485, 400, 873, 510]"
      ]
     },
     "execution_count": 12,
     "metadata": {},
     "output_type": "execute_result"
    }
   ],
   "source": [
    "neighbors = neighborhoods['neighborhood_ids'].loc[1]\n",
    "neighbors"
   ]
  },
  {
   "cell_type": "code",
   "execution_count": null,
   "id": "d7aa7329",
   "metadata": {},
   "outputs": [],
   "source": []
  },
  {
   "cell_type": "code",
   "execution_count": 13,
   "id": "557d9828",
   "metadata": {},
   "outputs": [
    {
     "data": {
      "text/plain": [
       "title\n",
       "'Til There Was You (1997)                NaN\n",
       "1-900 (1994)                             NaN\n",
       "101 Dalmatians (1996)                    NaN\n",
       "12 Angry Men (1957)                      NaN\n",
       "187 (1997)                               2.5\n",
       "                                        ... \n",
       "Young Guns II (1990)                     NaN\n",
       "Young Poisoner's Handbook, The (1995)    NaN\n",
       "Zeus and Roxanne (1997)                  NaN\n",
       "unknown                                  NaN\n",
       "Á köldum klaka (Cold Fever) (1994)       NaN\n",
       "Length: 1664, dtype: float64"
      ]
     },
     "execution_count": 13,
     "metadata": {},
     "output_type": "execute_result"
    }
   ],
   "source": [
    "#印出全部人的平均打分\n",
    "user_ratings.loc[neighbors].mean()"
   ]
  },
  {
   "cell_type": "markdown",
   "id": "dbb94251",
   "metadata": {},
   "source": [
    "### 利用全部打分的平均去重新計算每個人給的分數"
   ]
  },
  {
   "cell_type": "code",
   "execution_count": 14,
   "id": "c2dc5669",
   "metadata": {},
   "outputs": [],
   "source": [
    "def usercf_predict_rating_closure(user_ratings, neighborhoods):\n",
    "    # creates the function to predict ratings\n",
    "    def usercf_predict_rating_using_nmean(row):\n",
    "        neighbors_ids = neighborhoods['neighborhood_ids'].loc[row.name]\n",
    "        # calculate predictions\n",
    "        pred_ratings = user_ratings.loc[neighbors_ids].mean()\n",
    "        return round(pred_ratings)\n",
    "    \n",
    "    return usercf_predict_rating_using_nmean"
   ]
  },
  {
   "cell_type": "markdown",
   "id": "723f806f",
   "metadata": {},
   "source": [
    "### 計算每一個人之間的距離作為判斷相似的依據"
   ]
  },
  {
   "cell_type": "code",
   "execution_count": 15,
   "id": "7d2982fc",
   "metadata": {},
   "outputs": [],
   "source": [
    "def recommendation_system_user_model(minperiods, nneighbors, user_ratings):\n",
    "    user_distances = user_ratings.transpose().corr(method='pearson', min_periods=minperiods)\n",
    "    #利用皮爾森係數算每個人的距離，並只保留相關的資料\n",
    "    user_distances = user_distances.dropna(axis=0, thresh=nneighbors+1).dropna(axis=1, thresh=nneighbors+1)\n",
    "    user_distances = user_distances.loc[user_distances.columns]\n",
    "    #將結果移到-1和1之間\n",
    "    user_distances = 1 - user_distances\n",
    "    #把負數去掉\n",
    "    user_distances[user_distances < 0] = 0\n",
    "    #KNN模型建立\n",
    "    model_knn = NearestNeighbors(metric='precomputed', algorithm='brute', n_neighbors=nneighbors, n_jobs=-1)\n",
    "    model_knn.fit(csr_matrix(user_distances.fillna(0).values))\n",
    "    #預測\n",
    "    similarity, indexes = model_knn.kneighbors(csr_matrix(user_distances.fillna(0).values), n_neighbors=nneighbors)\n",
    "    #把預測的結果對照回原本的資料\n",
    "    neighborhoods = pd.DataFrame({'neighborhood_ids':[user_distances.iloc[neighbors].index.to_list() for neighbors in indexes], \n",
    "                                  'distance': similarity.tolist()}, \n",
    "                                 index=user_distances.index)\n",
    "    #利用平均去計算打分 \n",
    "    pred = user_ratings.reindex(neighborhoods.index).apply(usercf_predict_rating_closure(user_ratings,neighborhoods), \n",
    "                                                           axis='columns')\n",
    "    #將預測的打分重新加回原本的資料中\n",
    "    user_ratings.merge(pred, how='right')\n",
    "    return pred, neighborhoods"
   ]
  },
  {
   "cell_type": "markdown",
   "id": "5bf1637a",
   "metadata": {},
   "source": [
    "### 利用MAE function去計算執行的成果好壞"
   ]
  },
  {
   "cell_type": "code",
   "execution_count": 16,
   "id": "1acb1fce",
   "metadata": {},
   "outputs": [],
   "source": [
    "def mae(user_ratings, predicted_ratings):\n",
    "    abs_dif = abs(user_ratings - predicted_ratings)\n",
    "    #處理有些電影未被評分的問題\n",
    "    n = np.sum(user_ratings.count()) \n",
    "    return abs_dif.sum().sum()/ n"
   ]
  },
  {
   "cell_type": "code",
   "execution_count": 17,
   "id": "efe96d97",
   "metadata": {},
   "outputs": [],
   "source": [
    "def mse(user_ratings, predicted_ratings):\n",
    "    abs_dif = (user_ratings - predicted_ratings)*(user_ratings - predicted_ratings)\n",
    "#     #處理有些電影未被評分的問題\n",
    "    n = np.sum(user_ratings.count()) \n",
    "    return abs_dif.sum().sum()/ n"
   ]
  },
  {
   "cell_type": "code",
   "execution_count": 18,
   "id": "7b661a8a",
   "metadata": {},
   "outputs": [],
   "source": [
    "def rmse(user_ratings, predicted_ratings):\n",
    "    abs_dif = (user_ratings - predicted_ratings)*(user_ratings - predicted_ratings)\n",
    "#     #處理有些電影未被評分的問題\n",
    "    n = np.sum(user_ratings.count()) \n",
    "    return np.sqrt(abs_dif.sum().sum()/ n)"
   ]
  },
  {
   "cell_type": "markdown",
   "id": "b1af7937",
   "metadata": {},
   "source": [
    "### 讀取要訓練和測試的資料集"
   ]
  },
  {
   "cell_type": "code",
   "execution_count": 19,
   "id": "2dece92e",
   "metadata": {},
   "outputs": [
    {
     "name": "stdout",
     "output_type": "stream",
     "text": [
      "(943, 1658)\n",
      "(943, 1135)\n"
     ]
    }
   ],
   "source": [
    "user_ratings_train = pd.read_csv('ub.base',sep='\\t',names=['user_id','movie_id','rating'], usecols=[0,1,2])\n",
    "\n",
    "user_ratings_test = pd.read_csv('ub.test',sep='\\t',names=['user_id','movie_id','rating'], usecols=[0,1,2])\n",
    "\n",
    "movie_info =  pd.read_csv('u.item', sep='|', names=['movie_id','title'], usecols=[0,1],encoding=\"ISO-8859-1\")\n",
    "\n",
    "# 將user資料和電影的資料合成一個檔案\n",
    "user_ratings_train = pd.merge(movie_info, user_ratings_train)\n",
    "user_ratings_test = pd.merge(movie_info, user_ratings_test)\n",
    "\n",
    "#將user的id和打分合成一份資料，並給資料的欄位名稱\n",
    "user_ratings_train = user_ratings_train.pivot_table(index=['user_id'],columns=['title'],values='rating')\n",
    "\n",
    "user_ratings_test = user_ratings_test.pivot_table(index=['user_id'],columns=['title'],values='rating')\n",
    "\n",
    "print(user_ratings_train.shape)\n",
    "print(user_ratings_test.shape)"
   ]
  },
  {
   "cell_type": "code",
   "execution_count": 20,
   "id": "3ada5b74",
   "metadata": {},
   "outputs": [
    {
     "name": "stdout",
     "output_type": "stream",
     "text": [
      "(943, 1664)\n",
      "(943, 1664)\n"
     ]
    }
   ],
   "source": [
    "user_ratings_train = user_ratings_train.reindex(\n",
    "                            index=user_ratings_train.index.union(user_ratings_test.index), \n",
    "                            columns=user_ratings_train.columns.union(user_ratings_test.columns) )\n",
    "\n",
    "user_ratings_test = user_ratings_test.reindex(\n",
    "                            index=user_ratings_train.index.union(user_ratings_test.index), \n",
    "                            columns=user_ratings_train.columns.union(user_ratings_test.columns) )\n",
    "\n",
    "print(user_ratings_train.shape)\n",
    "print(user_ratings_test.shape)"
   ]
  },
  {
   "cell_type": "code",
   "execution_count": 21,
   "id": "a88ecfe0",
   "metadata": {},
   "outputs": [
    {
     "data": {
      "text/html": [
       "<div>\n",
       "<style scoped>\n",
       "    .dataframe tbody tr th:only-of-type {\n",
       "        vertical-align: middle;\n",
       "    }\n",
       "\n",
       "    .dataframe tbody tr th {\n",
       "        vertical-align: top;\n",
       "    }\n",
       "\n",
       "    .dataframe thead th {\n",
       "        text-align: right;\n",
       "    }\n",
       "</style>\n",
       "<table border=\"1\" class=\"dataframe\">\n",
       "  <thead>\n",
       "    <tr style=\"text-align: right;\">\n",
       "      <th></th>\n",
       "      <th>Min Periods</th>\n",
       "      <th>KNN</th>\n",
       "      <th>MAE</th>\n",
       "      <th>% of movies ignored</th>\n",
       "      <th>% of users ignored</th>\n",
       "      <th>fill %</th>\n",
       "    </tr>\n",
       "  </thead>\n",
       "  <tbody>\n",
       "    <tr>\n",
       "      <th>0</th>\n",
       "      <td>5</td>\n",
       "      <td>2</td>\n",
       "      <td>0.259711</td>\n",
       "      <td>2.524038</td>\n",
       "      <td>0.000000</td>\n",
       "      <td>8.21</td>\n",
       "    </tr>\n",
       "    <tr>\n",
       "      <th>1</th>\n",
       "      <td>5</td>\n",
       "      <td>5</td>\n",
       "      <td>0.406973</td>\n",
       "      <td>0.600962</td>\n",
       "      <td>0.000000</td>\n",
       "      <td>16.37</td>\n",
       "    </tr>\n",
       "    <tr>\n",
       "      <th>2</th>\n",
       "      <td>5</td>\n",
       "      <td>10</td>\n",
       "      <td>0.521280</td>\n",
       "      <td>0.360577</td>\n",
       "      <td>0.000000</td>\n",
       "      <td>25.48</td>\n",
       "    </tr>\n",
       "    <tr>\n",
       "      <th>3</th>\n",
       "      <td>5</td>\n",
       "      <td>20</td>\n",
       "      <td>0.620304</td>\n",
       "      <td>0.360577</td>\n",
       "      <td>0.212089</td>\n",
       "      <td>37.15</td>\n",
       "    </tr>\n",
       "    <tr>\n",
       "      <th>4</th>\n",
       "      <td>5</td>\n",
       "      <td>30</td>\n",
       "      <td>0.672734</td>\n",
       "      <td>0.360577</td>\n",
       "      <td>0.530223</td>\n",
       "      <td>44.79</td>\n",
       "    </tr>\n",
       "    <tr>\n",
       "      <th>5</th>\n",
       "      <td>10</td>\n",
       "      <td>2</td>\n",
       "      <td>0.388930</td>\n",
       "      <td>1.081731</td>\n",
       "      <td>3.075292</td>\n",
       "      <td>14.07</td>\n",
       "    </tr>\n",
       "    <tr>\n",
       "      <th>6</th>\n",
       "      <td>10</td>\n",
       "      <td>5</td>\n",
       "      <td>0.499629</td>\n",
       "      <td>0.360577</td>\n",
       "      <td>6.256628</td>\n",
       "      <td>23.74</td>\n",
       "    </tr>\n",
       "    <tr>\n",
       "      <th>7</th>\n",
       "      <td>10</td>\n",
       "      <td>10</td>\n",
       "      <td>0.560125</td>\n",
       "      <td>0.360577</td>\n",
       "      <td>9.756098</td>\n",
       "      <td>32.09</td>\n",
       "    </tr>\n",
       "    <tr>\n",
       "      <th>8</th>\n",
       "      <td>10</td>\n",
       "      <td>20</td>\n",
       "      <td>0.604543</td>\n",
       "      <td>0.360577</td>\n",
       "      <td>13.997879</td>\n",
       "      <td>41.15</td>\n",
       "    </tr>\n",
       "    <tr>\n",
       "      <th>9</th>\n",
       "      <td>10</td>\n",
       "      <td>30</td>\n",
       "      <td>0.625769</td>\n",
       "      <td>0.420673</td>\n",
       "      <td>15.376458</td>\n",
       "      <td>47.47</td>\n",
       "    </tr>\n",
       "    <tr>\n",
       "      <th>10</th>\n",
       "      <td>50</td>\n",
       "      <td>2</td>\n",
       "      <td>0.258650</td>\n",
       "      <td>1.983173</td>\n",
       "      <td>54.188759</td>\n",
       "      <td>11.56</td>\n",
       "    </tr>\n",
       "    <tr>\n",
       "      <th>11</th>\n",
       "      <td>50</td>\n",
       "      <td>5</td>\n",
       "      <td>0.300255</td>\n",
       "      <td>1.442308</td>\n",
       "      <td>55.885472</td>\n",
       "      <td>18.08</td>\n",
       "    </tr>\n",
       "    <tr>\n",
       "      <th>12</th>\n",
       "      <td>50</td>\n",
       "      <td>10</td>\n",
       "      <td>0.303333</td>\n",
       "      <td>2.644231</td>\n",
       "      <td>58.748674</td>\n",
       "      <td>21.81</td>\n",
       "    </tr>\n",
       "    <tr>\n",
       "      <th>13</th>\n",
       "      <td>50</td>\n",
       "      <td>20</td>\n",
       "      <td>0.287625</td>\n",
       "      <td>1.442308</td>\n",
       "      <td>61.611877</td>\n",
       "      <td>24.40</td>\n",
       "    </tr>\n",
       "    <tr>\n",
       "      <th>14</th>\n",
       "      <td>50</td>\n",
       "      <td>30</td>\n",
       "      <td>0.278709</td>\n",
       "      <td>2.163462</td>\n",
       "      <td>62.566278</td>\n",
       "      <td>26.24</td>\n",
       "    </tr>\n",
       "    <tr>\n",
       "      <th>15</th>\n",
       "      <td>100</td>\n",
       "      <td>2</td>\n",
       "      <td>0.170346</td>\n",
       "      <td>7.091346</td>\n",
       "      <td>73.806999</td>\n",
       "      <td>8.82</td>\n",
       "    </tr>\n",
       "    <tr>\n",
       "      <th>16</th>\n",
       "      <td>100</td>\n",
       "      <td>5</td>\n",
       "      <td>0.176608</td>\n",
       "      <td>5.528846</td>\n",
       "      <td>76.564157</td>\n",
       "      <td>11.43</td>\n",
       "    </tr>\n",
       "    <tr>\n",
       "      <th>17</th>\n",
       "      <td>100</td>\n",
       "      <td>10</td>\n",
       "      <td>0.154001</td>\n",
       "      <td>6.009615</td>\n",
       "      <td>79.321315</td>\n",
       "      <td>12.33</td>\n",
       "    </tr>\n",
       "    <tr>\n",
       "      <th>18</th>\n",
       "      <td>100</td>\n",
       "      <td>20</td>\n",
       "      <td>0.133623</td>\n",
       "      <td>5.588942</td>\n",
       "      <td>81.972428</td>\n",
       "      <td>12.65</td>\n",
       "    </tr>\n",
       "    <tr>\n",
       "      <th>19</th>\n",
       "      <td>100</td>\n",
       "      <td>30</td>\n",
       "      <td>0.120144</td>\n",
       "      <td>5.889423</td>\n",
       "      <td>83.669141</td>\n",
       "      <td>12.37</td>\n",
       "    </tr>\n",
       "  </tbody>\n",
       "</table>\n",
       "</div>"
      ],
      "text/plain": [
       "    Min Periods  KNN       MAE  % of movies ignored  % of users ignored  \\\n",
       "0             5    2  0.259711             2.524038            0.000000   \n",
       "1             5    5  0.406973             0.600962            0.000000   \n",
       "2             5   10  0.521280             0.360577            0.000000   \n",
       "3             5   20  0.620304             0.360577            0.212089   \n",
       "4             5   30  0.672734             0.360577            0.530223   \n",
       "5            10    2  0.388930             1.081731            3.075292   \n",
       "6            10    5  0.499629             0.360577            6.256628   \n",
       "7            10   10  0.560125             0.360577            9.756098   \n",
       "8            10   20  0.604543             0.360577           13.997879   \n",
       "9            10   30  0.625769             0.420673           15.376458   \n",
       "10           50    2  0.258650             1.983173           54.188759   \n",
       "11           50    5  0.300255             1.442308           55.885472   \n",
       "12           50   10  0.303333             2.644231           58.748674   \n",
       "13           50   20  0.287625             1.442308           61.611877   \n",
       "14           50   30  0.278709             2.163462           62.566278   \n",
       "15          100    2  0.170346             7.091346           73.806999   \n",
       "16          100    5  0.176608             5.528846           76.564157   \n",
       "17          100   10  0.154001             6.009615           79.321315   \n",
       "18          100   20  0.133623             5.588942           81.972428   \n",
       "19          100   30  0.120144             5.889423           83.669141   \n",
       "\n",
       "    fill %  \n",
       "0     8.21  \n",
       "1    16.37  \n",
       "2    25.48  \n",
       "3    37.15  \n",
       "4    44.79  \n",
       "5    14.07  \n",
       "6    23.74  \n",
       "7    32.09  \n",
       "8    41.15  \n",
       "9    47.47  \n",
       "10   11.56  \n",
       "11   18.08  \n",
       "12   21.81  \n",
       "13   24.40  \n",
       "14   26.24  \n",
       "15    8.82  \n",
       "16   11.43  \n",
       "17   12.33  \n",
       "18   12.65  \n",
       "19   12.37  "
      ]
     },
     "execution_count": 21,
     "metadata": {},
     "output_type": "execute_result"
    }
   ],
   "source": [
    "scoreboard = []\n",
    "for min_periods in [5, 10, 50, 100]:\n",
    "    for n_neighbors in [2, 5, 10, 20, 30]:\n",
    "        # temporarily supress warnings\n",
    "        with warnings.catch_warnings():\n",
    "            warnings.simplefilter(\"ignore\")\n",
    "            pred, neighborhoods = recommendation_system_user_model(min_periods, \n",
    "                                                                   n_neighbors, \n",
    "                                                                   user_ratings_train)\n",
    "        #有些欄位會因為沒有足夠的鄰居去計算而被誤填，需要重新排列index重新去計算一次\n",
    "        pred = pred.reindex(index=user_ratings_train.index)\n",
    "        # 利用MAE去計算error\n",
    "        error = mae(user_ratings_test, pred)\n",
    "        # 計算未被評分的電影比例\n",
    "        m_not_rec = (pred.notna().sum(axis=0) == 0).sum() / pred.columns.size * 100\n",
    "        # 計算沒有評論的user\n",
    "        u_not_rec = (pred.notna().sum(axis=1) == 0).sum() / pred.index.size * 100\n",
    "        d = {\"Min Periods\": min_periods, \n",
    "             \"KNN\":n_neighbors,\"MAE\": error, \n",
    "             \"% of movies ignored\": m_not_rec, '% of users ignored': u_not_rec,\n",
    "             \"fill %\": df_fill_percentage(pred)}\n",
    "        scoreboard.append(d)\n",
    "scores = pd.DataFrame(scoreboard)\n",
    "scores"
   ]
  },
  {
   "cell_type": "code",
   "execution_count": null,
   "id": "05323f87",
   "metadata": {},
   "outputs": [],
   "source": []
  },
  {
   "cell_type": "code",
   "execution_count": null,
   "id": "89dd9bf5",
   "metadata": {},
   "outputs": [],
   "source": []
  },
  {
   "cell_type": "markdown",
   "id": "ca87f0f0",
   "metadata": {},
   "source": [
    "### 執行預測並計算error"
   ]
  },
  {
   "cell_type": "code",
   "execution_count": 22,
   "id": "0939d1a6",
   "metadata": {},
   "outputs": [
    {
     "name": "stderr",
     "output_type": "stream",
     "text": [
      "C:\\Users\\611121209\\anaconda3\\lib\\site-packages\\sklearn\\neighbors\\_base.py:199: EfficiencyWarning: Precomputed sparse input was not sorted by data.\n",
      "  warnings.warn(\n"
     ]
    }
   ],
   "source": [
    "pred_user, neighborhoods_user = recommendation_system_user_model(5, 10, user_ratings_train)\n",
    "pred_user = pred_user.reindex(index=user_ratings_train.index)"
   ]
  },
  {
   "cell_type": "code",
   "execution_count": 23,
   "id": "fa9b6086",
   "metadata": {},
   "outputs": [
    {
     "data": {
      "text/plain": [
       "0.896439184886436"
      ]
     },
     "execution_count": 23,
     "metadata": {},
     "output_type": "execute_result"
    }
   ],
   "source": [
    "# compare to the test set using MAE\n",
    "error = mse(user_ratings_test, pred_user)\n",
    "error"
   ]
  },
  {
   "cell_type": "code",
   "execution_count": 24,
   "id": "5543bdcf",
   "metadata": {},
   "outputs": [
    {
     "data": {
      "text/plain": [
       "0.9468047237347499"
      ]
     },
     "execution_count": 24,
     "metadata": {},
     "output_type": "execute_result"
    }
   ],
   "source": [
    "# compare to the test set using RMSE\n",
    "error = rmse(user_ratings_test, pred_user)\n",
    "error"
   ]
  },
  {
   "cell_type": "code",
   "execution_count": 25,
   "id": "2367696f",
   "metadata": {},
   "outputs": [
    {
     "name": "stderr",
     "output_type": "stream",
     "text": [
      "C:\\Users\\611121209\\anaconda3\\lib\\site-packages\\sklearn\\neighbors\\_base.py:199: EfficiencyWarning: Precomputed sparse input was not sorted by data.\n",
      "  warnings.warn(\n"
     ]
    }
   ],
   "source": [
    "pred_user, neighborhoods_user = recommendation_system_user_model(5, 10, user_ratings_train)\n",
    "pred_user = pred_user.reindex(index=user_ratings_train.index)"
   ]
  }
 ],
 "metadata": {
  "kernelspec": {
   "display_name": "Python 3 (ipykernel)",
   "language": "python",
   "name": "python3"
  },
  "language_info": {
   "codemirror_mode": {
    "name": "ipython",
    "version": 3
   },
   "file_extension": ".py",
   "mimetype": "text/x-python",
   "name": "python",
   "nbconvert_exporter": "python",
   "pygments_lexer": "ipython3",
   "version": "3.9.13"
  }
 },
 "nbformat": 4,
 "nbformat_minor": 5
}
