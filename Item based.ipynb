{
 "cells": [
  {
   "cell_type": "code",
   "execution_count": 5,
   "id": "1d38f3d0",
   "metadata": {
    "scrolled": true
   },
   "outputs": [],
   "source": [
    "import pandas as pd\n",
    "import numpy as np\n",
    "import matplotlib.pyplot as plt\n",
    "import seaborn as sns\n",
    "\n",
    "rating_header = [\"user_id\", \"item_id\", \"rating\", \"timestamp\"]\n",
    "\n",
    "rating_a_train = pd.read_csv(\"ua.base\", sep = '\\t', header = None, names=rating_header)\n",
    "rating_b_train = pd.read_csv(\"ub.base\", sep = '\\t', header = None, names=rating_header)\n",
    "rating_a_test = pd.read_csv(\"ua.test\", sep = '\\t', header = None, names=rating_header)\n",
    "rating_b_test = pd.read_csv(\"ub.test\", sep = '\\t', header = None, names=rating_header)\n",
    "# users = pd.read_csv(\"u.user\", sep = '|', header = None, names=user_header)\n",
    "# movies = pd.read_csv(\"u.item\", sep = '|', header = None, encoding = 'latin1', names = movie_header)\n",
    "\n",
    "# print('Rating: ')\n",
    "# rating.info()\n",
    "# print('\\nUsers: ')\n",
    "# users.info()\n",
    "# print('\\nMovies: ')\n",
    "# movies.info()"
   ]
  },
  {
   "cell_type": "code",
   "execution_count": 6,
   "id": "2f3ea0d1",
   "metadata": {
    "scrolled": true
   },
   "outputs": [],
   "source": [
    "df_a_train = rating_a_train.pivot(index='item_id', columns='user_id', values='rating').fillna(0)\n",
    "df_b_train = rating_b_train.pivot(index='item_id', columns='user_id', values='rating').fillna(0)"
   ]
  },
  {
   "cell_type": "code",
   "execution_count": 7,
   "id": "0c8fe447",
   "metadata": {},
   "outputs": [],
   "source": [
    "from sklearn.neighbors import NearestNeighbors\n",
    "\n",
    "# df = df_a_train.copy()\n",
    "df = df_b_train.copy()\n",
    "\n",
    "# knn的k值\n",
    "number_neighbors = 100\n",
    "\n",
    "knn = NearestNeighbors(metric='cosine', algorithm='brute')\n",
    "knn.fit(df.values)\n",
    "\n",
    "# 找出k每個movie的前k個最相似的其他movie\n",
    "# distances => 他們的距離\n",
    "# indices => 他們的index\n",
    "distances, indices = knn.kneighbors(df.values, n_neighbors=number_neighbors)\n",
    "\n",
    "def movie_recommender(user, movie):\n",
    "\n",
    "    user_index = df.columns.tolist().index(user)\n",
    "    movie_index = df.index.tolist().index(movie)\n",
    "    \n",
    "    # 如果沒有被評分過\n",
    "    if df.iloc[movie_index, user_index] == 0:\n",
    "        sim_movies = indices[movie_index].tolist()\n",
    "        movie_distances = distances[movie_index].tolist()\n",
    "\n",
    "        if movie_index in sim_movies:\n",
    "            id_movie = sim_movies.index(movie_index)\n",
    "            sim_movies.remove(movie_index)\n",
    "            movie_distances.pop(id_movie) \n",
    "\n",
    "        else:\n",
    "            # 未被評分的movie\n",
    "            sim_movies = sim_movies[:number_neighbors-1]\n",
    "            movie_distances = movie_distances[:number_neighbors-1]\n",
    "\n",
    "        # similarity = 1 - distance\n",
    "        movie_similarity = [1 - x for x in movie_distances]\n",
    "        movie_similarity_copy = movie_similarity.copy()\n",
    "        nominator = 0\n",
    "\n",
    "        # 用前k個相似的movie預測rating\n",
    "        for s in range(0, len(movie_similarity)):\n",
    "            if df.iloc[sim_movies[s], user_index] == 0:\n",
    "                if len(movie_similarity_copy) == (number_neighbors - 1):\n",
    "                    movie_similarity_copy.pop(s)\n",
    "                else:\n",
    "                    movie_similarity_copy.pop(s-(len(movie_similarity)-len(movie_similarity_copy)))\n",
    "            else:\n",
    "                # weighted average of ratings for similar movies\n",
    "                # 這是其中一部份\n",
    "                nominator = nominator + movie_similarity[s]*df.iloc[sim_movies[s],user_index]\n",
    "\n",
    "        if len(movie_similarity_copy) > 0:\n",
    "            if sum(movie_similarity_copy) > 0:\n",
    "                # 這是weighted average的另一部份\n",
    "                predicted_r = nominator/sum(movie_similarity_copy)\n",
    "\n",
    "            else:\n",
    "                predicted_r = 0\n",
    "        else:\n",
    "            predicted_r = 0\n",
    "\n",
    "        if predicted_r > 5:\n",
    "            predicted_r = 5\n",
    "#         print('Predicted Rating: ', predicted_r)\n",
    "        return predicted_r\n",
    "    else:\n",
    "        # 回傳已填過的rating\n",
    "        return df.iloc[movie_index, user_index]"
   ]
  },
  {
   "cell_type": "code",
   "execution_count": 8,
   "id": "1724df40",
   "metadata": {
    "scrolled": true
   },
   "outputs": [
    {
     "name": "stdout",
     "output_type": "stream",
     "text": [
      "Progress: 9430 / 9430\n",
      "RMSE: 1.0605788164205228\n",
      "new data: [(100, 1236), (167, 1309), (381, 1533), (399, 1543), (587, 1624), (676, 1654), (751, 1661)]\n"
     ]
    }
   ],
   "source": [
    "from IPython.display import clear_output\n",
    "\n",
    "# RMSE\n",
    "def error(test):\n",
    "    nominator = 0\n",
    "    length = len(test.index)\n",
    "    new_items = []\n",
    "    for i in range(length):\n",
    "        user_id = test.loc[i]['user_id']\n",
    "        item_id = test.loc[i]['item_id']\n",
    "        if item_id not in df.index or user_id not in df.columns:\n",
    "            new_items.append((user_id, item_id))\n",
    "            continue\n",
    "        predicted_rating = movie_recommender(user_id, item_id)\n",
    "        nominator += (predicted_rating - test.loc[i]['rating']) ** 2\n",
    "        if i % 100 == 0 or i == length - 1:\n",
    "            clear_output(wait=True)\n",
    "            print(f'Progress: {i + 1} / {length}')\n",
    "\n",
    "    nominator = (nominator / length) ** (1 / 2)\n",
    "    print(f'RMSE: {nominator}')\n",
    "    print(f'new data: {new_items}')\n",
    "\n",
    "# error(rating_a_test)\n",
    "error(rating_b_test)"
   ]
  },
  {
   "cell_type": "markdown",
   "id": "0d3b0474",
   "metadata": {},
   "source": [
    "data: ua\n",
    "\n",
    "1. k = len(df.values) \n",
    "\n",
    "    RMSE: 1.0192876612718813\n",
    "\n",
    "    new data: [(405, 1582), (675, 1653)]\n",
    "\n",
    "\n",
    "2. \n",
    "    k = 10\n",
    "\n",
    "    RMSE: 1.657360773012494\n",
    "    \n",
    "    new data: [(405, 1582), (675, 1653)]"
   ]
  },
  {
   "cell_type": "markdown",
   "id": "f940be18",
   "metadata": {},
   "source": [
    "data: ub\n",
    "\n",
    "1.  k = len(df.values)\n",
    "\n",
    "    RMSE: 1.0357045494559085\n",
    "\n",
    "    new data: [(100, 1236), (167, 1309), (381, 1533), (399, 1543), (587, 1624), (676, 1654), (751, 1661)]\n",
    "\n",
    "\n",
    "2.  k = 10\n",
    "    \n",
    "    RMSE: 1.678075268019329\n",
    "\n",
    "    new data: [(100, 1236), (167, 1309), (381, 1533), (399, 1543), (587, 1624), (676, 1654), (751, 1661)]"
   ]
  }
 ],
 "metadata": {
  "kernelspec": {
   "display_name": "Python 3 (ipykernel)",
   "language": "python",
   "name": "python3"
  },
  "language_info": {
   "codemirror_mode": {
    "name": "ipython",
    "version": 3
   },
   "file_extension": ".py",
   "mimetype": "text/x-python",
   "name": "python",
   "nbconvert_exporter": "python",
   "pygments_lexer": "ipython3",
   "version": "3.9.13"
  }
 },
 "nbformat": 4,
 "nbformat_minor": 5
}
